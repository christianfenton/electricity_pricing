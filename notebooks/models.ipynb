{
 "cells": [
  {
   "cell_type": "markdown",
   "id": "f536473f",
   "metadata": {},
   "source": [
    "# Model development\n",
    "\n",
    "This notebook is intended for the development of price forecasting models."
   ]
  },
  {
   "cell_type": "markdown",
   "id": "45ac2cb8",
   "metadata": {},
   "source": []
  }
 ],
 "metadata": {
  "kernelspec": {
   "display_name": "electricity-pricing-GKSthAoU-py3.12",
   "language": "python",
   "name": "python3"
  },
  "language_info": {
   "codemirror_mode": {
    "name": "ipython",
    "version": 3
   },
   "file_extension": ".py",
   "mimetype": "text/x-python",
   "name": "python",
   "nbconvert_exporter": "python",
   "pygments_lexer": "ipython3",
   "version": "3.12.11"
  }
 },
 "nbformat": 4,
 "nbformat_minor": 5
}
