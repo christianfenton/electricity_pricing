{
 "cells": [
  {
   "cell_type": "markdown",
   "id": "f536473f",
   "metadata": {},
   "source": [
    "# Model development\n",
    "\n",
    "This notebook is intended for the development of price forecasting models."
   ]
  },
  {
   "cell_type": "markdown",
   "id": "45ac2cb8",
   "metadata": {},
   "source": [
    "# 1. A Simple Baseline Model\n",
    "\n",
    "In our exploratory data analysis (see `exploratory_analysis.ipynb`), we inspected a number of variables and their relationship with electricity prices using actual historical data. Most of the variables we looked at appeared to have a meaningful connection to electricity prices, so it would be reasonable to use all of those variables in a price forecasting model, however, some are redundant since we don't need to include both wind speed and wind generation, for example. We also saw in the autocorrelation plots that electricity prices at time $t$ were related to prices at earlier times.\n",
    "\n",
    "We also need to consider that the available data for forecasting are different. It is possible to collect forecasts of electricity demand, wind and solar generation from the National Energy System Operator (NESO) website. It is also possible to get data on prices of futures contracts on goal and gas from commodities markets, but this type of data is often behind paywalls.\n",
    "\n",
    "With the above considerations, we can propose an electricity pricing model of the form\n",
    "\n",
    "$$\n",
    "P^{\\mathrm{el}}_{t} = \\sum^{\\ell}_{k=1} \\alpha_k P^{\\mathrm{el}}_{t - k} + g(t, \\mathbf{X}^f_{t}, \\mathbf{Y}_{t-1}; \\boldsymbol{\\theta}) + \\epsilon_t,\n",
    "$$\n",
    "\n",
    "where\n",
    "- $P^{\\mathrm{el}}_t$: price of electricity at time t\n",
    "- $g$: some function parameterised by $\\boldsymbol{\\theta}$\n",
    "- $\\mathbf{X}^f_t$: a vector of forecasted exogeneous variables\n",
    "- $\\mathbf{Y}_{t-1}$: a vector of actual exogeneous variables\n",
    "- $\\epsilon_t$: noise term\n",
    "\n",
    "Currently available forecasted exogeneous variables are:\n",
    "- $D^f_t$: forecasted electricity demand \n",
    "- $W^f_t$: forecasted wind generation \n",
    "- $S^f_t$: forecasted solar generation\n",
    "\n",
    "The actual exogeneous variables we will use are:\n",
    "- Natural gas prices\n",
    "- The electricity generation mix excluding renewables (wind and solar)\n",
    "\n",
    "The idea of including the non-renewable generation mix term is to capture that non-renewable generation like nuclear and biomass is slowly varying.\n",
    "\n",
    "The proposed model is an autoregressive model with exogeneous variables (ARX). For simplicity we will use $g$ that is linearly dependent on the exogenous variables. "
   ]
  },
  {
   "cell_type": "markdown",
   "id": "1876cfbd",
   "metadata": {},
   "source": []
  }
 ],
 "metadata": {
  "kernelspec": {
   "display_name": "electricity-pricing-GKSthAoU-py3.12",
   "language": "python",
   "name": "python3"
  },
  "language_info": {
   "codemirror_mode": {
    "name": "ipython",
    "version": 3
   },
   "file_extension": ".py",
   "mimetype": "text/x-python",
   "name": "python",
   "nbconvert_exporter": "python",
   "pygments_lexer": "ipython3",
   "version": "3.12.11"
  }
 },
 "nbformat": 4,
 "nbformat_minor": 5
}
