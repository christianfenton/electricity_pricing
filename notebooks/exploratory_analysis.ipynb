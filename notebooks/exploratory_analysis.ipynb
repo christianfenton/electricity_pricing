{
 "cells": [
  {
   "cell_type": "markdown",
   "id": "dac086a0",
   "metadata": {},
   "source": [
    "# Exploratory Data Analysis\n",
    "\n",
    "The objective of this notebook is to select features for electricity price forecasting models by using historical data to:\n",
    "1. Visualise trends and periodic behaviour\n",
    "2. Investigate relationships between variables\n",
    "3. Compare forecasts with actual historical data"
   ]
  },
  {
   "cell_type": "markdown",
   "id": "e8ff2ca3",
   "metadata": {},
   "source": [
    "## 1. Identify trends and periodic behaviour"
   ]
  },
  {
   "cell_type": "markdown",
   "id": "dbe96b6c",
   "metadata": {},
   "source": [
    "### 1.1 Load datasets"
   ]
  },
  {
   "cell_type": "code",
   "execution_count": null,
   "id": "5c2bbba7",
   "metadata": {},
   "outputs": [],
   "source": [
    "import os\n",
    "import pandas as pd\n",
    "import numpy as np\n",
    "import matplotlib.pyplot as plt\n",
    "import matplotlib as mpl\n",
    "import seaborn as sns\n",
    "plt.style.use('seaborn-v0_8-colorblind')\n",
    "\n",
    "base_dir = os.path.join(os.path.dirname(os.getcwd()), \"data\", \"processed\")\n",
    "df_electricity = pd.read_csv(os.path.join(base_dir, \"electricity_data.csv\"))\n",
    "df_weather = pd.read_csv(os.path.join(base_dir, \"weather_data.csv\"))\n",
    "\n",
    "# Make sure dataset timestamps are pandas.Timestamp objects\n",
    "df_electricity['startTime'] = pd.to_datetime(df_electricity['startTime'])\n",
    "df_electricity['settlementDate'] = pd.to_datetime(df_electricity['settlementDate'])\n",
    "df_weather['ob_time'] = pd.to_datetime(df_weather['ob_time'])\n",
    "\n",
    "print(f\"Electricity data memory usage: {np.sum(df_electricity.memory_usage()) / 10**6} MB\")\n",
    "print(f\"Weather data memory usage: {np.sum(df_weather.memory_usage()) / 10**6} MB\")\n",
    "\n",
    "print(\"\\nElectricity data columns:\\n\", df_electricity.columns)\n",
    "print(\"\\nWeather data columns:\\n\", df_weather.columns)"
   ]
  },
  {
   "cell_type": "code",
   "execution_count": null,
   "id": "cb20050f",
   "metadata": {},
   "outputs": [],
   "source": [
    "df_electricity.head()"
   ]
  },
  {
   "cell_type": "code",
   "execution_count": null,
   "id": "a49e71de",
   "metadata": {},
   "outputs": [],
   "source": [
    "df_weather.head()"
   ]
  },
  {
   "cell_type": "markdown",
   "id": "e5731fc5",
   "metadata": {},
   "source": [
    "### 1.2 Electricity prices"
   ]
  },
  {
   "cell_type": "markdown",
   "id": "363cac3b",
   "metadata": {},
   "source": [
    "Plot a seasonal decomposition of daily mean market index prices:"
   ]
  },
  {
   "cell_type": "code",
   "execution_count": null,
   "id": "0105c31f",
   "metadata": {},
   "outputs": [],
   "source": [
    "from statsmodels.tsa.seasonal import seasonal_decompose\n",
    "\n",
    "daily_mip = df_electricity.groupby('settlementDate')['marketIndexPrice'].mean()\n",
    "decomposition = seasonal_decompose(daily_mip, model='additive', period=365)\n",
    "\n",
    "fig, axes = plt.subplots(4, 1, figsize=(16/2, 9/2), layout='constrained', sharex=True)\n",
    "colors = sns.color_palette(\"colorblind\", 4)\n",
    "axes[0].plot(decomposition.observed.index, decomposition.observed.values, label='Observed', color=colors[0])\n",
    "axes[1].plot(decomposition.trend.index, decomposition.trend.values, label='Trend', color=colors[1])\n",
    "axes[2].plot(decomposition.seasonal.index, decomposition.seasonal.values, label='Seasonal', color=colors[2])\n",
    "axes[3].plot(decomposition.resid.index, decomposition.resid.values, label='Residual', color=colors[3])\n",
    "axes[3].set_xlabel('Date', fontsize=10)\n",
    "for ax in axes:\n",
    "    ax.set_ylabel('£ / MWh', fontsize=10)\n",
    "    ax.legend(loc='upper left', fontsize=8)\n",
    "fig.suptitle('Seasonal decomposition of daily mean electricity price', fontsize=10)\n",
    "plt.xticks(rotation=45)\n",
    "plt.show()"
   ]
  },
  {
   "cell_type": "markdown",
   "id": "dfab21a1",
   "metadata": {},
   "source": [
    "*Comments:*\n",
    "\n",
    "There are clear seasonal fluctuations, with lower prices during the summers and higher prices during the winters. In addition, we see a peak in the price trend, which might be attributed to higher natural gas prices around the same period (we will confirm this later)."
   ]
  },
  {
   "cell_type": "markdown",
   "id": "581cd4ec",
   "metadata": {},
   "source": [
    "Plot price histogram:"
   ]
  },
  {
   "cell_type": "code",
   "execution_count": null,
   "id": "be85a1e0",
   "metadata": {},
   "outputs": [],
   "source": [
    "fig, ax = plt.subplots(figsize=(4, 3), layout='constrained')\n",
    "ax.hist(df_electricity['marketIndexPrice'], bins=100)\n",
    "ax.set_xlabel('Price (£/MWh)', fontsize=10)\n",
    "ax.set_ylabel('Frequency', fontsize=10)\n",
    "plt.show()"
   ]
  },
  {
   "cell_type": "markdown",
   "id": "8e66eb00",
   "metadata": {},
   "source": [
    "*Comments:*\n",
    "\n",
    "Unsure what type of distribution this is. In any case, it is positively skewed."
   ]
  },
  {
   "cell_type": "markdown",
   "id": "263eaf36",
   "metadata": {},
   "source": [
    "Let's investigate monthly, weekly, daily and intraday price patterns:"
   ]
  },
  {
   "cell_type": "code",
   "execution_count": null,
   "id": "cbf79c45",
   "metadata": {},
   "outputs": [],
   "source": [
    "# Box plot by month (not showing outlier points)\n",
    "fig, ax = plt.subplots(figsize=(4, 3), layout='constrained')\n",
    "df_electricity['month'] = df_electricity['settlementDate'].dt.month\n",
    "df_electricity.boxplot(column='marketIndexPrice', by='month', ax=ax, sym='')\n",
    "ax.set_xlabel('Month', fontsize=10)\n",
    "ax.set_ylabel('Price (£/MWh)', fontsize=10)\n",
    "fig.suptitle('')\n",
    "plt.show()\n",
    "\n",
    "# Average price by settlement period\n",
    "sp_avg = df_electricity.groupby(df_electricity['settlementPeriod'])['marketIndexPrice'].mean()\n",
    "fig, ax = plt.subplots(figsize=(16/4, 9/4), layout='constrained')\n",
    "ax.plot(sp_avg.index, sp_avg.values)\n",
    "ax.set_xlabel('Settlement period', fontsize=10)\n",
    "ax.set_ylabel('Price (£/MWh)', fontsize=10)\n",
    "ax.set_title('Mean MIP per settlement period', fontsize=10)\n",
    "plt.show()\n",
    "\n",
    "# Average price by weekday\n",
    "df_electricity['day_of_week'] = df_electricity['settlementDate'].dt.dayofweek\n",
    "df_electricity['is_weekend'] = df_electricity['day_of_week'] >= 5\n",
    "fig, ax = plt.subplots(figsize=(16/4, 9/4), layout='constrained')\n",
    "for weekend, group in df_electricity.groupby('is_weekend'):\n",
    "    hourly = group.groupby(group['settlementPeriod'])['marketIndexPrice'].mean()\n",
    "    label = 'Weekend' if weekend else 'Weekday'\n",
    "    ax.plot(hourly.index, hourly.values, label=label)\n",
    "ax.legend(loc='best', fontsize=8)\n",
    "ax.set_xlabel('Settlement period', fontsize=10)\n",
    "ax.set_ylabel('Price (£/MWh)', fontsize=10)\n",
    "ax.set_title('Mean MIP per settlement period', fontsize=10)\n",
    "plt.show()"
   ]
  },
  {
   "cell_type": "markdown",
   "id": "ab290688",
   "metadata": {},
   "source": [
    "*Comments:*\n",
    " \n",
    "There are generally two peaks and two troughs in price per day. Each settlement period is 30 minutes, so the peaks are typically during the late morning hours and evening, while troughs are typically during the early morning hours and early afternoon. Weekends are cheaper than weekdays and have a much smaller morning peak than the weekdays."
   ]
  },
  {
   "cell_type": "markdown",
   "id": "59342b5b",
   "metadata": {},
   "source": [
    "### 1.3 Natural gas prices"
   ]
  },
  {
   "cell_type": "code",
   "execution_count": null,
   "id": "75585ce0",
   "metadata": {},
   "outputs": [],
   "source": [
    "# drop duplicates\n",
    "gas_prices = df_electricity.groupby(df_electricity['settlementDate'].dt.date).first()['naturalGasPrice']\n",
    "\n",
    "fig, ax = plt.subplots(figsize=(16/3, 9/3), layout='constrained')\n",
    "ax.plot(gas_prices.index, gas_prices.values, label='Natural Gas')\n",
    "ax.plot(daily_mip.index, daily_mip.values, label='Market Index')\n",
    "ax.set_xlabel('Date', fontsize=10)\n",
    "ax.set_ylabel('Price (£ / KWh)', fontsize=10)\n",
    "ax.legend()\n",
    "plt.xticks(rotation=45)\n",
    "plt.show()"
   ]
  },
  {
   "cell_type": "markdown",
   "id": "4f3d876c",
   "metadata": {},
   "source": [
    "*Comments:*\n",
    "\n",
    "Natural gas prices appear to be strongly correlated with electricity prices."
   ]
  },
  {
   "cell_type": "markdown",
   "id": "199a4239",
   "metadata": {},
   "source": [
    "### 1.4 Electricity generation"
   ]
  },
  {
   "cell_type": "markdown",
   "id": "cae1133d",
   "metadata": {},
   "source": [
    "Let's break down the electricity generation sources:"
   ]
  },
  {
   "cell_type": "code",
   "execution_count": null,
   "id": "d509c7e3",
   "metadata": {},
   "outputs": [],
   "source": [
    "from matplotlib.dates import DateFormatter\n",
    "import datetime\n",
    "\n",
    "generation_types = ['NUCLEAR', 'GAS', 'WIND', 'INTER', 'BIOMASS', 'SOLAR', 'COAL', 'OIL', 'OTHER']\n",
    "\n",
    "# Group by year-month and take mean\n",
    "df_electricity['year_month'] = df_electricity['settlementDate'].dt.to_period('M')\n",
    "monthly_generation_by_type = df_electricity.groupby('year_month')[generation_types].mean()\n",
    "\n",
    "# Convert period index back to datetime for plotting\n",
    "monthly_generation_by_type.index = monthly_generation_by_type.index.to_timestamp()\n",
    "\n",
    "fig, ax = plt.subplots(figsize=(16/2, 9/2), layout='constrained')\n",
    "ax.set_title('Monthly mean electricity generation', fontsize=10)\n",
    "colors = sns.color_palette(\"colorblind\", len(generation_types))\n",
    "xdata = monthly_generation_by_type.index\n",
    "ydata = [monthly_generation_by_type[gt] / 1000 for gt in generation_types]\n",
    "ax.stackplot(xdata, ydata, labels=generation_types, colors=colors)\n",
    "ax.legend(fontsize=8, loc='best')\n",
    "ax.xaxis.set_major_formatter(DateFormatter('%Y-%m'))  # Changed format to show year-month\n",
    "ax.set_xlabel('Date', fontsize=10)\n",
    "ax.set_ylabel('Power (GW)', fontsize=10)\n",
    "plt.xticks(rotation=45)\n",
    "plt.show()"
   ]
  },
  {
   "cell_type": "markdown",
   "id": "29f36e37",
   "metadata": {},
   "source": [
    "*Comments:*\n",
    "\n",
    "Nuclear, gas and wind make up the majority of the UK's power generation. There is some anomalous data around the end of 2022."
   ]
  },
  {
   "cell_type": "code",
   "execution_count": null,
   "id": "a77b6ab6",
   "metadata": {},
   "outputs": [],
   "source": [
    "# compute total generation\n",
    "generation_by_type = df_electricity[generation_types]\n",
    "df_electricity['generationTotal'] = generation_by_type.sum(axis=1)\n",
    "\n",
    "# take 7-day rolling average\n",
    "cols = generation_types + ['generationTotal']\n",
    "daily_generation = df_electricity.groupby('settlementDate')[cols].mean()\n",
    "rolling_generation = daily_generation.rolling(window=7).mean()\n",
    "\n",
    "# plot\n",
    "fig, ax = plt.subplots(figsize=(16/3, 9/3), layout='constrained')\n",
    "ax.plot(rolling_generation['generationTotal'].index, rolling_generation['generationTotal'].values / 1000, label='All sources')\n",
    "ax.plot(rolling_generation['WIND'].index, rolling_generation['WIND'].values / 1000, label='Wind')\n",
    "ax.plot(rolling_generation['SOLAR'].index, rolling_generation['SOLAR'].values / 1000, label='Solar')\n",
    "ax.plot(rolling_generation['GAS'].index, rolling_generation['GAS'].values / 1000, label='Gas')\n",
    "ax.plot(rolling_generation['NUCLEAR'].index, rolling_generation['NUCLEAR'].values / 1000, label='Nuclear')\n",
    "ax.set_xlabel('Date', fontsize=10)\n",
    "ax.set_ylabel('Power (GW)', fontsize=10)\n",
    "ax.legend(fontsize=8, loc='best')\n",
    "ax.set_title('Monthly mean electricity generation', fontsize=10)\n",
    "plt.xticks(rotation=45)\n",
    "plt.show()"
   ]
  },
  {
   "cell_type": "markdown",
   "id": "fc215a8f",
   "metadata": {},
   "source": [
    "Plot electricity generation breakdown for the first week in October 2023:"
   ]
  },
  {
   "cell_type": "code",
   "execution_count": null,
   "id": "73ae18e1",
   "metadata": {},
   "outputs": [],
   "source": [
    "# select smaller date range for plotting\n",
    "start_date = pd.to_datetime(\"2023-10-01\") \n",
    "end_date = pd.to_datetime(\"2023-10-07\")\n",
    "mask = (df_electricity['settlementDate'] >= start_date) & (df_electricity['settlementDate'] <= end_date)\n",
    "df_elec_filtered = df_electricity.loc[mask].copy()\n",
    "\n",
    "time = df_elec_filtered['startTime']\n",
    "generation_by_type = df_elec_filtered[generation_types]\n",
    "\n",
    "fig, ax = plt.subplots(figsize=(16/2, 9/2), layout='constrained')\n",
    "colors = sns.color_palette(\"colorblind\", len(generation_types))\n",
    "ax.stackplot(time, [generation_by_type[gt] / 1000 for gt in generation_types], labels=generation_types, colors=colors)\n",
    "ax.legend(fontsize=8, loc='upper right')\n",
    "ax.xaxis.set_major_formatter(DateFormatter('%Y-%m-%d'))\n",
    "ax.set_xlabel('Date', fontsize=10)\n",
    "ax.set_ylabel('Power (GW)', fontsize=10)\n",
    "ax.set_title('October 2023 snapshot', fontsize=10)\n",
    "plt.xticks(rotation=45)\n",
    "plt.show()"
   ]
  },
  {
   "cell_type": "markdown",
   "id": "4b2494fc",
   "metadata": {},
   "source": [
    "Let's plot MIP, NGP and generation over a shorter time period (first week in October 2023):"
   ]
  },
  {
   "cell_type": "code",
   "execution_count": null,
   "id": "059985a2",
   "metadata": {},
   "outputs": [],
   "source": [
    "# select smaller date range\n",
    "start_date = pd.to_datetime(\"2023-10-01\") \n",
    "end_date = pd.to_datetime(\"2023-10-07\")\n",
    "mask = (df_electricity['settlementDate'] >= start_date) & (df_electricity['settlementDate'] <= end_date)\n",
    "df = df_electricity.loc[mask]\n",
    "df = df.set_index('startTime')\n",
    "MIP = df['marketIndexPrice']\n",
    "NGP = df['naturalGasPrice']\n",
    "generation = df['generationTotal'] / 1000  # rescale to GW\n",
    "wind = df['WIND'] / 1000  # rescale to GW\n",
    "solar = df['SOLAR'] / 1000  # rescale to GW\n",
    "gas = df['GAS'] / 1000  # rescale to GW\n",
    "nuclear = df['NUCLEAR'] / 1000  # rescale to GW\n",
    "biomass = df['BIOMASS'] / 1000  # rescale to GW\n",
    "\n",
    "colors = sns.color_palette(\"colorblind\", 7)\n",
    "\n",
    "# Plot 1: Prices\n",
    "fig, (ax1, ax2) = plt.subplots(2, 1, figsize=(16/2, 9/2), layout='constrained', sharex=True)\n",
    "ax1.plot(MIP.index, MIP, label='Market index price')\n",
    "ax1.plot(NGP.index, NGP, label='Natural gas price')\n",
    "# ax.set_xlabel('Date', fontsize=10)\n",
    "ax1.set_ylabel('Price (£ / MWh)', fontsize=10)\n",
    "ax1.legend(fontsize=8, loc='best')\n",
    "\n",
    "# Plot 2: Generation\n",
    "ax2.plot(generation.index, generation, label='All sources')\n",
    "ax2.plot(wind.index, wind, label='Wind')\n",
    "ax2.plot(solar.index, solar, label='Solar')\n",
    "ax2.plot(gas.index, gas, label='Gas')\n",
    "ax2.plot(nuclear.index, nuclear, label='Nuclear')\n",
    "ax2.plot(biomass.index, biomass, label='Biomass')\n",
    "ax2.set_xlabel('Date', fontsize=10)\n",
    "ax2.set_ylabel('Power (GW)', fontsize=10)\n",
    "ax2.legend(fontsize=8, loc='best')\n",
    "fig.suptitle('October 2023 snapshot', fontsize=10)\n",
    "plt.xticks(rotation=45)\n",
    "plt.show()"
   ]
  },
  {
   "cell_type": "markdown",
   "id": "79581d9b",
   "metadata": {},
   "source": [
    "*Comments:*\n",
    "\n",
    "- Nuclear, gas and wind make up the majority of the energy generation\n",
    "- Nuclear generation is very stable\n",
    "- There are large, daily fluctuations in energy generation\n",
    "- Energy from interconnectors is mostly positive, indicating that imports are larger than exports\n",
    "- Solar generation coincides with early peak hours\n",
    "- Oil generation is neglibible\n",
    "- There are clearly seasonal patterns in both wind and solar generation (more solar during summers, more wind during winters).\n",
    "- There are some anomalies in the generation data around the end of 2022, spring 2023 and the beginning of 2024 that indicate incorrect measurement or missing values for non-renewable energy sources."
   ]
  },
  {
   "cell_type": "code",
   "execution_count": null,
   "id": "45a39af3",
   "metadata": {},
   "outputs": [],
   "source": [
    "# drop oil generation from data\n",
    "df_electricity.drop(columns='OIL', inplace=True)\n",
    "generation_types.remove('OIL')"
   ]
  },
  {
   "cell_type": "markdown",
   "id": "9a38e77e",
   "metadata": {},
   "source": [
    "### 1.5 Weather patterns"
   ]
  },
  {
   "cell_type": "code",
   "execution_count": null,
   "id": "c92174de",
   "metadata": {},
   "outputs": [],
   "source": [
    "df_weather.columns"
   ]
  },
  {
   "cell_type": "code",
   "execution_count": null,
   "id": "6704f56b",
   "metadata": {},
   "outputs": [],
   "source": [
    "# Average over locations for each timestamp\n",
    "df_avg_locations = (\n",
    "    df_weather.groupby('ob_time')\n",
    "      .mean(numeric_only=True)\n",
    "      .reset_index() \n",
    ")\n",
    "\n",
    "# Average over locations and dates\n",
    "df_avg_locations_dates = df_weather.groupby(df_weather['ob_time'].dt.date).mean(numeric_only=True).reset_index()\n",
    "df_avg_locations_dates.rename(columns={'ob_time': 'date'}, inplace=True)\n",
    "df_avg_locations_dates.set_index('date', inplace=True)"
   ]
  },
  {
   "cell_type": "markdown",
   "id": "cd492a5a",
   "metadata": {},
   "source": [
    "Plot seasonal decomposition of air temperature, wind speed and irradiation averaged over the locations and days:"
   ]
  },
  {
   "cell_type": "code",
   "execution_count": null,
   "id": "a928fdfc",
   "metadata": {},
   "outputs": [],
   "source": [
    "# Decompose air temperature\n",
    "daily_temp = df_avg_locations_dates['air_temperature']\n",
    "decomposition = seasonal_decompose(daily_temp, model='additive', period=365)\n",
    "\n",
    "# Plot air temperature\n",
    "fig, axes = plt.subplots(4, 1, figsize=(16/3, 9/3), layout='constrained', sharex=True)\n",
    "colors = sns.color_palette(\"colorblind\", 4)\n",
    "axes[0].plot(decomposition.observed.index, decomposition.observed.values, label='Observed', color=colors[0])\n",
    "axes[1].plot(decomposition.trend.index, decomposition.trend.values, label='Trend', color=colors[1])\n",
    "axes[2].plot(decomposition.seasonal.index, decomposition.seasonal.values, label='Seasonal', color=colors[2])\n",
    "axes[3].plot(decomposition.resid.index, decomposition.resid.values, label='Residual', color=colors[3])\n",
    "axes[3].set_xlabel('Date', fontsize=10)\n",
    "for ax in axes:\n",
    "    ax.set_ylabel(\"$\\\\degree \\\\mathrm{C}$\", fontsize=10)\n",
    "    ax.legend(loc='upper left', fontsize=8)\n",
    "fig.suptitle('Seasonal decomposition of daily mean air temperature', fontsize=10)\n",
    "plt.xticks(rotation=45)\n",
    "plt.show()\n",
    "\n",
    "# Decompose wind speed\n",
    "daily_wind = df_avg_locations_dates['wind_speed']\n",
    "decomposition = seasonal_decompose(daily_wind, model='additive', period=365)\n",
    "\n",
    "# Plot wind speed\n",
    "fig, axes = plt.subplots(4, 1, figsize=(16/3, 9/3), layout='constrained', sharex=True)\n",
    "colors = sns.color_palette(\"colorblind\", 4)\n",
    "axes[0].plot(decomposition.observed.index, decomposition.observed.values, label='Observed', color=colors[0])\n",
    "axes[1].plot(decomposition.trend.index, decomposition.trend.values, label='Trend', color=colors[1])\n",
    "axes[2].plot(decomposition.seasonal.index, decomposition.seasonal.values, label='Seasonal', color=colors[2])\n",
    "axes[3].plot(decomposition.resid.index, decomposition.resid.values, label='Residual', color=colors[3])\n",
    "axes[3].set_xlabel('Date', fontsize=10)\n",
    "for ax in axes:\n",
    "    ax.set_ylabel(\"m/s\", fontsize=10)\n",
    "    ax.legend(loc='upper left', fontsize=8)\n",
    "fig.suptitle('Seasonal decomposition of daily mean wind speed', fontsize=10)\n",
    "plt.xticks(rotation=45)\n",
    "plt.show()\n",
    "\n",
    "# Decompose solar irradiation\n",
    "daily_irrad = df_avg_locations_dates['glbl_irad_amt']\n",
    "decomposition = seasonal_decompose(daily_irrad, model='additive', period=365)\n",
    "\n",
    "fig, axes = plt.subplots(4, 1, figsize=(16/3, 9/3), layout='constrained', sharex=True)\n",
    "colors = sns.color_palette(\"colorblind\", 4)\n",
    "axes[0].plot(decomposition.observed.index, decomposition.observed.values, label='Observed', color=colors[0])\n",
    "axes[1].plot(decomposition.trend.index, decomposition.trend.values, label='Trend', color=colors[1])\n",
    "axes[2].plot(decomposition.seasonal.index, decomposition.seasonal.values, label='Seasonal', color=colors[2])\n",
    "axes[3].plot(decomposition.resid.index, decomposition.resid.values, label='Residual', color=colors[3])\n",
    "axes[3].set_xlabel('Date', fontsize=10)\n",
    "for ax in axes:\n",
    "    ax.set_ylabel(\"$\\\\mathrm{KJ/m}^2$\", fontsize=10)\n",
    "    ax.legend(loc='upper left', fontsize=8)\n",
    "fig.suptitle('Seasonal decomposition of daily mean global solar irradiation', fontsize=10)\n",
    "plt.xticks(rotation=45)\n",
    "plt.show()"
   ]
  },
  {
   "cell_type": "markdown",
   "id": "48a44ace",
   "metadata": {},
   "source": [
    "## 2. Relationships between variables"
   ]
  },
  {
   "cell_type": "markdown",
   "id": "ca47a68d",
   "metadata": {},
   "source": [
    "### 2.1 Spearman and Pearson correlations between variables"
   ]
  },
  {
   "cell_type": "markdown",
   "id": "a2e0d8b3",
   "metadata": {},
   "source": [
    "Merge dataframes:"
   ]
  },
  {
   "cell_type": "code",
   "execution_count": null,
   "id": "17128938",
   "metadata": {},
   "outputs": [],
   "source": [
    "# Merge dataframes:\n",
    "df_electricity['startTime'] = pd.to_datetime(df_electricity['startTime']).dt.tz_localize(None)\n",
    "df_avg_locations['ob_time'] = pd.to_datetime(df_avg_locations['ob_time']).dt.tz_localize(None)\n",
    "df_tmp = df_avg_locations.rename(columns={'ob_time': 'startTime'})\n",
    "df_merged = df_electricity.merge(df_tmp, on='startTime', how='inner') # merge"
   ]
  },
  {
   "cell_type": "markdown",
   "id": "c86c19d8",
   "metadata": {},
   "source": [
    "Plot relationships between variables and electricity price:"
   ]
  },
  {
   "cell_type": "code",
   "execution_count": null,
   "id": "50cb9030",
   "metadata": {},
   "outputs": [],
   "source": [
    "market_variables = {\n",
    "    'marketIndexTradingVolume': 'Market Index Trading Volume',\n",
    "    'naturalGasPrice': 'Natural Gas Price (£ / MWh)',\n",
    "    'INDO': 'National demand (MW)',\n",
    "    'ITSO': 'Transmission system demand (MW)'\n",
    "}\n",
    "\n",
    "generation_variables = {\n",
    "    'generationTotal': 'Total Generation (MW)',\n",
    "    'WIND': 'Wind Generation (MW)',\n",
    "    'SOLAR': 'Solar Generation (MW)',\n",
    "    'GAS': 'Gas Generation (MW)',\n",
    "    'NUCLEAR': 'Nuclear Generation (MW)',\n",
    "    'BIOMASS': 'Biomass Generation (MW)',\n",
    "    'COAL': 'Coal Generation (MW)',\n",
    "    'INTER': 'Interconnector Flow (MW)'\n",
    "}\n",
    "\n",
    "weather_variables = {\n",
    "    'glbl_irad_amt': 'Solar Irradiation (KJ/m^2)',\n",
    "    'visibility': 'Visibility (decametres)',\n",
    "    'wind_speed': 'Wind Speed (m/s)',\n",
    "    'air_temperature': 'Air Temperature (degC)'\n",
    "}\n",
    "\n",
    "variables = market_variables | generation_variables | weather_variables\n",
    "\n",
    "variables = {\n",
    "    # market variables\n",
    "    'marketIndexTradingVolume': 'Market Index Trading Volume',\n",
    "    'naturalGasPrice': 'Natural Gas Price',\n",
    "    'INDO': 'National demand',\n",
    "    'ITSO': 'Transmission system demand',\n",
    "    # generation variables\n",
    "    'generationTotal': 'Total Generation',\n",
    "    'WIND': 'Wind Generation',\n",
    "    'SOLAR': 'Solar Generation',\n",
    "    'GAS': 'Gas Generation',\n",
    "    'NUCLEAR': 'Nuclear Generation',\n",
    "    'BIOMASS': 'Biomass Generation',\n",
    "    'COAL': 'Coal Generation',\n",
    "    'INTER': 'Interconnector Flow',\n",
    "    # weather variables\n",
    "    'glbl_irad_amt': 'Solar Irradiation',\n",
    "    'visibility': 'Visibility',\n",
    "    'wind_speed': 'Wind Speed',\n",
    "    'air_temperature': 'Air Temperature'\n",
    "}\n",
    "\n",
    "target = 'marketIndexPrice'\n",
    "target_string = 'MIP (£ / MIP)'\n",
    "\n",
    "fig, axes = plt.subplots(2, 2, layout='tight', figsize=(8, 6))\n",
    "for (ax, (var, label)) in zip(axes.flat, market_variables.items()):\n",
    "    ax.scatter(df_merged[var], df_merged[target], alpha=0.3, s=1)\n",
    "    ax.set_xlabel(label)\n",
    "    ax.set_ylabel(target_string, fontsize=10)\n",
    "plt.show()\n",
    "\n",
    "fig, axes = plt.subplots(4, 2, layout='tight', figsize=(8, 12))\n",
    "for (ax, (var, label)) in zip(axes.flat, generation_variables.items()):\n",
    "    ax.scatter(df_merged[var], df_merged[target], alpha=0.3, s=1)\n",
    "    ax.set_xlabel(label)\n",
    "    ax.set_ylabel(target_string, fontsize=10)\n",
    "plt.show()\n",
    "\n",
    "fig, axes = plt.subplots(2, 2, layout='tight', figsize=(8, 6))\n",
    "for (ax, (var, label)) in zip(axes.flat, weather_variables.items()):\n",
    "    ax.scatter(df_merged[var], df_merged[target], alpha=0.3, s=1)\n",
    "    ax.set_xlabel(label)\n",
    "    ax.set_ylabel(target_string, fontsize=10)\n",
    "plt.show()"
   ]
  },
  {
   "cell_type": "markdown",
   "id": "bc6c0c98",
   "metadata": {},
   "source": [
    "Compute correlations between different variables:"
   ]
  },
  {
   "cell_type": "code",
   "execution_count": null,
   "id": "e6fcd661",
   "metadata": {},
   "outputs": [],
   "source": [
    "import scipy.stats\n",
    "\n",
    "correlation_results = []\n",
    "for var, label in variables.items():\n",
    "    valid_data = df_merged[[var, target]].dropna()  # drop NaNs\n",
    "    pearson_r, pearson_p = scipy.stats.pearsonr(valid_data[var], valid_data[target])\n",
    "    spearman_r, spearman_p = scipy.stats.spearmanr(valid_data[var], valid_data[target])\n",
    "\n",
    "    correlation_results.append({\n",
    "        'Variable': label,\n",
    "        'Pearson': pearson_r,\n",
    "        'Pearson p-value': pearson_p,\n",
    "        'Spearman': spearman_r,\n",
    "        'Spearman p-value': spearman_p,\n",
    "    })\n",
    "\n",
    "corr_df = pd.DataFrame(correlation_results)\n",
    "corr_df = corr_df.sort_values('Pearson', key=abs, ascending=False)\n",
    "\n",
    "print(\"Correlations with Market Index Price:\")\n",
    "print(corr_df.to_string(index=False))"
   ]
  },
  {
   "cell_type": "markdown",
   "id": "cc8f05e9",
   "metadata": {},
   "source": [
    "Visualise correlations:"
   ]
  },
  {
   "cell_type": "code",
   "execution_count": null,
   "id": "43296f54",
   "metadata": {},
   "outputs": [],
   "source": [
    "fig, ax = plt.subplots(figsize=(8, 5), layout='constrained')\n",
    "x = np.arange(len(corr_df))\n",
    "width = 0.35\n",
    "bars1 = ax.barh(x - width/2, corr_df['Pearson'], width, label='Pearson', alpha=0.8)\n",
    "bars2 = ax.barh(x + width/2, corr_df['Spearman'], width, label='Spearman', alpha=0.8)\n",
    "ax.set_yticks(x)\n",
    "ax.set_yticklabels(corr_df['Variable'], fontsize=9)\n",
    "ax.set_xlabel('Correlation Coefficient', fontsize=10)\n",
    "ax.set_title('Pearson and Spearman correlations', fontsize=10)\n",
    "ax.legend(fontsize=9)\n",
    "ax.axvline(x=0, color='black', linewidth=0.8, linestyle='-', alpha=0.3)\n",
    "ax.grid(axis='x', alpha=0.3)\n",
    "\n",
    "plt.show()"
   ]
  },
  {
   "cell_type": "markdown",
   "id": "c123a6d3",
   "metadata": {},
   "source": [
    "### 2.2 Time-lagged correlations"
   ]
  },
  {
   "cell_type": "markdown",
   "id": "0c3b8fa3",
   "metadata": {},
   "source": [
    "Autocorrelation of daily mean market index prices:"
   ]
  },
  {
   "cell_type": "code",
   "execution_count": null,
   "id": "339b78f1",
   "metadata": {},
   "outputs": [],
   "source": [
    "from statsmodels.graphics.tsaplots import plot_acf, plot_pacf\n",
    "\n",
    "daily_prices = df_electricity.groupby('settlementDate')['marketIndexPrice'].mean()\n",
    "\n",
    "fig, axes = plt.subplots(1, 2, figsize=(16/2, 9/4), layout='tight')\n",
    "plot_acf(daily_prices, lags=30, ax=axes[0])\n",
    "plot_pacf(daily_prices, lags=30, ax=axes[1])\n",
    "axes[0].set_title('MIP Autocorrelation', fontsize=10)\n",
    "axes[1].set_title('MIP Partial Autocorrelation', fontsize=10)\n",
    "axes[0].set_xlabel('Lag (days)', fontsize=10)\n",
    "axes[1].set_xlabel('Lag (days)', fontsize=10)\n",
    "plt.show()"
   ]
  },
  {
   "cell_type": "markdown",
   "id": "0d32370d",
   "metadata": {},
   "source": [
    "Autocorrelation of intraday market index prices:"
   ]
  },
  {
   "cell_type": "code",
   "execution_count": null,
   "id": "194a64e8",
   "metadata": {},
   "outputs": [],
   "source": [
    "from statsmodels.graphics.tsaplots import plot_acf, plot_pacf\n",
    "\n",
    "mip = df_electricity.groupby('startTime')['marketIndexPrice'].mean()\n",
    "\n",
    "fig, (ax1, ax2) = plt.subplots(1, 2, figsize=(16/2, 9/4), layout='tight')\n",
    "plot_acf(mip, lags=50, ax=ax1)\n",
    "ax1.set_title('MIP Autocorrelation', fontsize=10)\n",
    "ax1.set_xlabel('Lag (half-hour intervals)', fontsize=10)\n",
    "plot_pacf(mip, lags=50, ax=ax2)\n",
    "ax2.set_title('MIP Partial Autocorrelation', fontsize=10)\n",
    "ax2.set_xlabel('Lag (half-hour intervals)', fontsize=10)\n",
    "plt.show()"
   ]
  },
  {
   "cell_type": "markdown",
   "id": "5460d94e",
   "metadata": {},
   "source": [
    "Time-lagged Pearson correlation with gas prices and demand:"
   ]
  },
  {
   "cell_type": "code",
   "execution_count": null,
   "id": "5903ef95",
   "metadata": {},
   "outputs": [],
   "source": [
    "variables = ['naturalGasPrice', 'ITSO']\n",
    "max_lag = 48  # 48 settlement periods = 24 hours\n",
    "lags = range(0, max_lag + 1)\n",
    "results = {var: [] for var in variables}\n",
    "\n",
    "for var in variables:\n",
    "    for lag in lags:\n",
    "        valid_data = df_merged[[var, target]].copy()\n",
    "        valid_data[f'{var}_lagged'] = valid_data[var].shift(lag)\n",
    "        valid_data = valid_data.dropna()\n",
    "        if len(valid_data) > 0:\n",
    "            corr, _ = scipy.stats.pearsonr(valid_data[f'{var}_lagged'], valid_data[target])\n",
    "            results[var].append(corr)\n",
    "        else:\n",
    "            results[var].append(np.nan)\n",
    "\n",
    "# Plot results\n",
    "fig, axes = plt.subplots(1, 2, figsize=(8, 3), layout='constrained')\n",
    "axes = axes.flatten()\n",
    "labels = {'naturalGasPrice': 'Natural Gas Price (£ / MWh)', 'ITSO': 'Transmission system demand (MW)'}\n",
    "\n",
    "for idx, var in enumerate(variables):\n",
    "    ax = axes[idx]\n",
    "    ax.plot(lags, results[var], marker='o', markersize=3)\n",
    "    ax.set_ylabel('Correlation', fontsize=9)\n",
    "    ax.set_title(labels[var], fontsize=10)\n",
    "    ax.grid(alpha=0.3)\n",
    "    ax.axhline(y=0, color='black', linewidth=0.8, linestyle='--', alpha=0.3)\n",
    "    \n",
    "    # Mark maximum correlation\n",
    "    max_corr_idx = np.argmax(np.abs(results[var]))\n",
    "    max_corr = results[var][max_corr_idx]\n",
    "    ax.plot(max_corr_idx, max_corr, 'ro', markersize=6, label=f'Max at lag {max_corr_idx}')\n",
    "    ax.legend(fontsize=8)\n",
    "\n",
    "axes[0].set_xlabel('Lag (half-hour periods)', fontsize=10)\n",
    "axes[1].set_xlabel('Lag (half-hour periods)', fontsize=10)\n",
    "fig.suptitle('Time-lagged Correlations with MIP', fontsize=10)\n",
    "plt.show()"
   ]
  },
  {
   "cell_type": "markdown",
   "id": "db2f3d06",
   "metadata": {},
   "source": [
    "*Comments:* \n",
    "\n",
    "The second plot shows that past demand patterns are strongly correlated with current electricity prices with a periodic delay of half a day. This is intuitive--days/weather (and therefore human activity and electricity demand) is periodic on similar time scales. "
   ]
  },
  {
   "cell_type": "markdown",
   "id": "23b98a0a",
   "metadata": {},
   "source": [
    "## 3. Forecast Evaluation"
   ]
  },
  {
   "cell_type": "markdown",
   "id": "b499c1c0",
   "metadata": {},
   "source": [
    "Load forecast data:"
   ]
  },
  {
   "cell_type": "code",
   "execution_count": null,
   "id": "b25266ae",
   "metadata": {},
   "outputs": [],
   "source": [
    "import os\n",
    "\n",
    "path = os.path.join(os.path.dirname(os.getcwd()), \"data\", \"processed\", \"forecast_data.csv\")\n",
    "df_forecast = pd.read_csv(path, parse_dates=['SETTLEMENT_DATE'])\n",
    "df_forecast.head()"
   ]
  },
  {
   "cell_type": "markdown",
   "id": "48490dd0",
   "metadata": {},
   "source": [
    "Plot demand snapshot:"
   ]
  },
  {
   "cell_type": "code",
   "execution_count": null,
   "id": "8e4181b6",
   "metadata": {},
   "outputs": [],
   "source": [
    "df_actual = df_electricity.copy()\n",
    "\n",
    "# Get snapshot\n",
    "start_date = pd.Timestamp(\"2023-10-01\")\n",
    "end_date = pd.Timestamp(\"2023-10-07\")\n",
    "mask_actual = (df_actual['settlementDate'] >= start_date) & (df_actual['settlementDate'] <= end_date)\n",
    "mask_forecast = (df_forecast['SETTLEMENT_DATE'] >= start_date) & (df_forecast['SETTLEMENT_DATE'] <= end_date)\n",
    "df_actual_snap = df_actual[mask_actual].copy()\n",
    "df_forecast_snap = df_forecast[mask_forecast].copy()\n",
    "\n",
    "# Create datetime from settlement date and period\n",
    "# Settlement periods are 1-48 for half-hourly intervals\n",
    "df_actual_snap['datetime'] = df_actual_snap['settlementDate'] + pd.to_timedelta((df_actual_snap['settlementPeriod'] - 1) * 30, unit='m')\n",
    "df_forecast_snap['datetime'] = df_forecast_snap['SETTLEMENT_DATE'] + pd.to_timedelta((df_forecast_snap['SETTLEMENT_PERIOD'] - 1) * 30, unit='m')\n",
    "\n",
    "# Plot\n",
    "fig, ax = plt.subplots(figsize=(16/3, 9/3), layout='constrained')\n",
    "ax.plot(df_actual_snap['datetime'], df_actual_snap['ITSO'] / 1000, label='Actual ITSO')\n",
    "ax.plot(df_actual_snap['datetime'], df_actual_snap['INDO'] / 1000, label='Actual INDO')\n",
    "ax.plot(df_forecast_snap['datetime'], df_forecast_snap['DEMAND_FORECAST'] / 1000, label='Demand forecast')\n",
    "ax.legend(fontsize=8)\n",
    "plt.xticks(rotation=45)\n",
    "ax.set_ylabel('Power (GW)', fontsize=10)\n",
    "ax.set_xlabel('Date', fontsize=10)\n",
    "plt.show()"
   ]
  },
  {
   "cell_type": "markdown",
   "id": "51ab26e2",
   "metadata": {},
   "source": [
    "*Comments:*\n",
    "\n",
    "The demand forecast appears to follow the actual initial national demand outturn (INDO) reasonably well."
   ]
  },
  {
   "cell_type": "markdown",
   "id": "c2110e19",
   "metadata": {},
   "source": [
    "Plot generation snapshot:"
   ]
  },
  {
   "cell_type": "code",
   "execution_count": null,
   "id": "cfc17758",
   "metadata": {},
   "outputs": [],
   "source": [
    "wind_total_forecast = df_forecast_snap['WIND_FORECAST'] + df_forecast_snap['EMBEDDED_WIND_FORECAST']\n",
    "wind_metered_forecast = df_forecast_snap['WIND_FORECAST']\n",
    "solar_forecast = df_forecast_snap['EMBEDDED_SOLAR_FORECAST']\n",
    "\n",
    "fig, ax = plt.subplots(figsize=(16/2, 9/2), layout='constrained')\n",
    "ax.plot(df_actual_snap['datetime'], df_actual_snap['WIND'] / 1000, label='Wind (actual)')\n",
    "ax.plot(df_actual_snap['datetime'], df_actual_snap['SOLAR'] / 1000, label='Solar (actual)')\n",
    "ax.plot(df_forecast_snap['datetime'], wind_metered_forecast / 1000, ls='--', label='Metered wind (forec.)')\n",
    "ax.plot(df_forecast_snap['datetime'], wind_total_forecast / 1000, ls='--', label='Metered + emb. wind (forec.)')\n",
    "ax.plot(df_forecast_snap['datetime'], solar_forecast / 1000, ls='--', label='Emb. solar (forec.)')\n",
    "ax.legend(fontsize=8)\n",
    "plt.xticks(rotation=45)\n",
    "ax.set_ylabel('Power (GW)', fontsize=10)\n",
    "ax.set_xlabel('Date', fontsize=10)\n",
    "plt.show()"
   ]
  },
  {
   "cell_type": "markdown",
   "id": "35c6f465",
   "metadata": {},
   "source": [
    "*Comments:*\n",
    "\n",
    "This suggests that the embedded wind generation is not included directly in the electricity generation data and is instead an indirect effect in demand suppression. Solar generation is accurately predicted while wind forecasts have lower accuracy."
   ]
  },
  {
   "cell_type": "code",
   "execution_count": null,
   "id": "0e481e6d",
   "metadata": {},
   "outputs": [],
   "source": []
  }
 ],
 "metadata": {
  "kernelspec": {
   "display_name": "electricity-pricing-GKSthAoU-py3.12",
   "language": "python",
   "name": "python3"
  },
  "language_info": {
   "codemirror_mode": {
    "name": "ipython",
    "version": 3
   },
   "file_extension": ".py",
   "mimetype": "text/x-python",
   "name": "python",
   "nbconvert_exporter": "python",
   "pygments_lexer": "ipython3",
   "version": "3.12.11"
  }
 },
 "nbformat": 4,
 "nbformat_minor": 5
}
