{
 "cells": [
  {
   "cell_type": "markdown",
   "id": "f536473f",
   "metadata": {},
   "source": [
    "# Hypothesis Tests\n",
    "\n",
    "This notebook is intended for analysis of historical electricity prices and the factors driving electricity price changes. Ultimately, the aim is  to test the following hypotheses:\n",
    "\n",
    "**Supply hypothesis:** Gas prices, wind, and solar radiation are the main supply-side drivers of electricity prices.\n",
    "\n",
    "**Demand hypothesis:** Temperature and time variables are the main demand-side drivers of electricity prices.\n",
    "\n",
    "Users can run `scripts/create_datasets.py` to create the datasets used in this notebook."
   ]
  }
 ],
 "metadata": {
  "kernelspec": {
   "display_name": "electricity-pricing-GKSthAoU-py3.12",
   "language": "python",
   "name": "python3"
  },
  "language_info": {
   "codemirror_mode": {
    "name": "ipython",
    "version": 3
   },
   "file_extension": ".py",
   "mimetype": "text/x-python",
   "name": "python",
   "nbconvert_exporter": "python",
   "pygments_lexer": "ipython3",
   "version": "3.12.11"
  }
 },
 "nbformat": 4,
 "nbformat_minor": 5
}
